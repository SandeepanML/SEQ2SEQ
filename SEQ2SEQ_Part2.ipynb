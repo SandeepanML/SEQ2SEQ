{
 "cells": [
  {
   "cell_type": "code",
   "execution_count": 1,
   "id": "f3d203ab-c2d0-4767-85b6-df963988cabd",
   "metadata": {},
   "outputs": [],
   "source": [
    "import os, sys\n",
    "import numpy as np\n",
    "import matplotlib.pyplot as plt"
   ]
  },
  {
   "cell_type": "code",
   "execution_count": 50,
   "id": "6b2131f9-a440-4bd7-a490-92297a59ea29",
   "metadata": {},
   "outputs": [],
   "source": [
    "from keras.models import Model\n",
    "from keras.layers import Input, LSTM, GRU, Dense, Embedding\n",
    "from keras.preprocessing.text import Tokenizer\n",
    "from keras.preprocessing.sequence import pad_sequences\n",
    "from keras.utils import to_categorical"
   ]
  },
  {
   "cell_type": "code",
   "execution_count": 6,
   "id": "ef9391c6-824a-4029-a23f-ee9475137f5b",
   "metadata": {},
   "outputs": [],
   "source": [
    "BATCH_SIZE = 64\n",
    "EPOCHS = 100\n",
    "LATENT_DIM = 256\n",
    "NUM_SAMPLES = 10000\n",
    "MAX_SEQUENCE_LENGTH = 100\n",
    "MAX_NUM_WORDS = 20000\n",
    "EMBEDDING_DIM = 100"
   ]
  },
  {
   "cell_type": "code",
   "execution_count": 86,
   "id": "711cd830-47ed-457d-b779-c21a8bd8bb86",
   "metadata": {},
   "outputs": [],
   "source": [
    "try:\n",
    "  import keras.backend as K\n",
    "  if len(K.tensorflow_backend._get_available_gpus()) > 0:\n",
    "    from keras.layers import CuDNNLSTM as LSTM\n",
    "    from keras.layers import CuDNNGRU as GRU\n",
    "except:\n",
    "  pass"
   ]
  },
  {
   "cell_type": "markdown",
   "id": "f7c97e58-3e6d-4bef-a791-a00d30460109",
   "metadata": {},
   "source": [
    "### Storing the Data"
   ]
  },
  {
   "cell_type": "code",
   "execution_count": 13,
   "id": "ca923e14-56c6-4af7-a560-655572ff1c82",
   "metadata": {},
   "outputs": [],
   "source": [
    "input_texts = []\n",
    "target_texts = []\n",
    "target_texts_inputs = []"
   ]
  },
  {
   "cell_type": "code",
   "execution_count": 14,
   "id": "b05535a9-5d2b-4e1a-91ca-8e4d49ed26ca",
   "metadata": {},
   "outputs": [
    {
     "name": "stdout",
     "output_type": "stream",
     "text": [
      "Num Samples: 10000\n"
     ]
    }
   ],
   "source": [
    "t = 0\n",
    "for line in open(\"spa.txt\", encoding=\"utf-8\"):\n",
    "    t = t + 1\n",
    "    if t > NUM_SAMPLES:\n",
    "        break\n",
    "\n",
    "    ## Ensure Input and Target Seperated By Tab\n",
    "    if \"\\t\" not in line:\n",
    "        continue\n",
    "\n",
    "    input_text = line.split(\"\\t\")[0]\n",
    "    translation = line.split(\"\\t\")[1]\n",
    "    \n",
    "    target_text = translation + \" <eos>\"\n",
    "    target_text_input = \"<sos> \" + translation ## Teacher Forcing\n",
    "\n",
    "    input_texts.append(input_text)\n",
    "    target_texts.append(target_text)\n",
    "    target_texts_inputs.append(target_text_input)\n",
    "\n",
    "print(\"Num Samples:\", len(input_texts))    "
   ]
  },
  {
   "cell_type": "markdown",
   "id": "585040f9-c150-43b8-aef2-3b209b98ca94",
   "metadata": {},
   "source": [
    "### Tokenize the ****INPUT**** Sentences"
   ]
  },
  {
   "cell_type": "code",
   "execution_count": 32,
   "id": "471daf72-8afb-40a8-b6a6-910332291b26",
   "metadata": {},
   "outputs": [],
   "source": [
    "tokenizer_inputs = Tokenizer(num_words = MAX_NUM_WORDS)\n",
    "tokenizer_inputs.fit_on_texts(input_texts)\n",
    "input_sequences = tokenizer_inputs.texts_to_sequences(input_texts)"
   ]
  },
  {
   "cell_type": "code",
   "execution_count": 33,
   "id": "0f49d6a8-1401-441d-a0d2-172ba0063b07",
   "metadata": {},
   "outputs": [
    {
     "name": "stdout",
     "output_type": "stream",
     "text": [
      "Found 2254 unique input tokens.\n"
     ]
    }
   ],
   "source": [
    "word2idx_inputs = tokenizer_inputs.word_index\n",
    "print(\"Found %s unique input tokens.\" % len(word2idx_inputs))"
   ]
  },
  {
   "cell_type": "code",
   "execution_count": 41,
   "id": "d999e4e3-9efd-4a27-8171-1848c59bff43",
   "metadata": {},
   "outputs": [],
   "source": [
    "max_len_input = max([len(s) for s in input_sequences])"
   ]
  },
  {
   "cell_type": "markdown",
   "id": "a63eea0a-c652-47c1-81ad-4b1a641104fb",
   "metadata": {},
   "source": [
    "### Tokenize the ****OUTPUT**** Sentences"
   ]
  },
  {
   "cell_type": "code",
   "execution_count": 45,
   "id": "38ad232c-5583-4be7-8432-975433ec0e5d",
   "metadata": {},
   "outputs": [],
   "source": [
    "tokenizer_outputs = Tokenizer(num_words = MAX_NUM_WORDS, filters = '')\n",
    "tokenizer_outputs.fit_on_texts(target_texts + target_texts_inputs)\n",
    "target_sequences = tokenizer_outputs.texts_to_sequences(target_texts)\n",
    "target_sequences_inputs = tokenizer_outputs.texts_to_sequences(target_texts_inputs)"
   ]
  },
  {
   "cell_type": "code",
   "execution_count": 46,
   "id": "d6597f2b-7183-4b65-aa7b-c302e02ed905",
   "metadata": {},
   "outputs": [
    {
     "name": "stdout",
     "output_type": "stream",
     "text": [
      "Found 6381 unique output tokens.\n"
     ]
    }
   ],
   "source": [
    "word2idx_outputs = tokenizer_outputs.word_index\n",
    "print(\"Found %s unique output tokens.\" % len(word2idx_outputs))"
   ]
  },
  {
   "cell_type": "code",
   "execution_count": 47,
   "id": "67a9665c-7a70-4001-bece-1980f50184f5",
   "metadata": {},
   "outputs": [],
   "source": [
    "num_words_output = len(word2idx_outputs) + 1"
   ]
  },
  {
   "cell_type": "code",
   "execution_count": 48,
   "id": "00f92b92-c2b5-45c2-ad3a-87ab633ea553",
   "metadata": {},
   "outputs": [],
   "source": [
    "max_len_target = max([len(s) for s in target_sequences])"
   ]
  },
  {
   "cell_type": "markdown",
   "id": "31d031ad-cb12-42af-95b6-094604a3976e",
   "metadata": {},
   "source": [
    "### Pad the Sequences"
   ]
  },
  {
   "cell_type": "code",
   "execution_count": 51,
   "id": "96d6bdae-ff1e-4c4c-9d4e-29ca7fca1e49",
   "metadata": {},
   "outputs": [
    {
     "name": "stdout",
     "output_type": "stream",
     "text": [
      "encoder_inputs.shape: (10000, 5)\n",
      "encoder_inputs[0]: [ 0  0  0  0 15]\n",
      "decoder_inputs[0]: [   2 1453    0    0    0    0    0    0    0    0]\n",
      "decoder_inputs.shape: (10000, 10)\n"
     ]
    }
   ],
   "source": [
    "# pad the sequences\n",
    "encoder_inputs = pad_sequences(input_sequences, maxlen=max_len_input)\n",
    "print(\"encoder_inputs.shape:\", encoder_inputs.shape)\n",
    "print(\"encoder_inputs[0]:\", encoder_inputs[0])\n",
    "\n",
    "decoder_inputs = pad_sequences(target_sequences_inputs, maxlen=max_len_target, padding='post')\n",
    "print(\"decoder_inputs[0]:\", decoder_inputs[0])\n",
    "print(\"decoder_inputs.shape:\", decoder_inputs.shape)\n",
    "\n",
    "decoder_targets = pad_sequences(target_sequences, maxlen=max_len_target, padding='post')"
   ]
  },
  {
   "cell_type": "markdown",
   "id": "0b982a3f-eb30-4700-a5c1-b5ca716ebb60",
   "metadata": {},
   "source": [
    "### Store the Pre-Trained Word Vectors"
   ]
  },
  {
   "cell_type": "code",
   "execution_count": 59,
   "id": "216c5e10-2664-47be-82ae-b75c45622208",
   "metadata": {},
   "outputs": [
    {
     "name": "stdout",
     "output_type": "stream",
     "text": [
      "Loading word vectors...\n",
      "Found 400000 word vectors.\n"
     ]
    }
   ],
   "source": [
    "# store all the pre-trained word vectors\n",
    "print('Loading word vectors...')\n",
    "word2vec = {}\n",
    "with open('glove.6B.100d.txt', encoding=\"utf-8\") as f:\n",
    "  # is just a space-separated text file in the format:\n",
    "  # word vec[0] vec[1] vec[2] ...\n",
    "  for line in f:\n",
    "    values = line.split()\n",
    "    word = values[0]\n",
    "    vec = np.asarray(values[1:], dtype='float32')\n",
    "    word2vec[word] = vec\n",
    "print('Found %s word vectors.' % len(word2vec))"
   ]
  },
  {
   "cell_type": "code",
   "execution_count": 61,
   "id": "626193bc-2bbc-44c7-8884-2b8b8a245e68",
   "metadata": {},
   "outputs": [
    {
     "data": {
      "text/plain": [
       "100"
      ]
     },
     "execution_count": 61,
     "metadata": {},
     "output_type": "execute_result"
    }
   ],
   "source": [
    "len(word2vec['the'])"
   ]
  },
  {
   "cell_type": "markdown",
   "id": "5b9c0b0d-8c20-4955-9e47-cdbcb152eac3",
   "metadata": {},
   "source": [
    "### Prepare Embedding Matrix"
   ]
  },
  {
   "cell_type": "code",
   "execution_count": 62,
   "id": "474bf4e1-cc65-4148-ba8b-6f54adff24e7",
   "metadata": {},
   "outputs": [],
   "source": [
    "num_words = min(MAX_NUM_WORDS, len(word2idx_inputs) + 1)"
   ]
  },
  {
   "cell_type": "code",
   "execution_count": 64,
   "id": "9b765c66-e519-49ec-9002-bd12f56b53ac",
   "metadata": {},
   "outputs": [],
   "source": [
    "embedding_matrix = np.zeros((num_words, 100))"
   ]
  },
  {
   "cell_type": "code",
   "execution_count": 67,
   "id": "31d60a80-680a-4943-b523-30d0ef1d9e03",
   "metadata": {},
   "outputs": [],
   "source": [
    "for word, i in word2idx_inputs.items():\n",
    "    if i < MAX_NUM_WORDS:\n",
    "        embedding_vector = word2vec.get(word)\n",
    "        if embedding_vector is not None:\n",
    "            embedding_matrix[i] = embedding_vector"
   ]
  },
  {
   "cell_type": "markdown",
   "id": "78fba848-f3de-4c4c-834a-a450ca8c4a12",
   "metadata": {},
   "source": [
    "### Create the Embedding Layer"
   ]
  },
  {
   "cell_type": "code",
   "execution_count": 68,
   "id": "c6aa7dd5-d9c4-4e81-adb8-d2ad8ebb1a77",
   "metadata": {},
   "outputs": [],
   "source": [
    "embedding_layer = Embedding(\n",
    "  num_words,\n",
    "  EMBEDDING_DIM,\n",
    "  weights=[embedding_matrix],\n",
    "  input_length=max_len_input,\n",
    "  # trainable=True\n",
    ")"
   ]
  },
  {
   "cell_type": "markdown",
   "id": "e9463e9e-5e9d-4878-ab7f-1acd9634c24d",
   "metadata": {},
   "source": [
    "### One Hot encoding for Target Feedback Loop"
   ]
  },
  {
   "cell_type": "code",
   "execution_count": 71,
   "id": "3a9f606d-5802-41bb-9536-e7b045f14acf",
   "metadata": {},
   "outputs": [],
   "source": [
    "decoder_targets_one_hot = np.zeros(\n",
    "  (\n",
    "    len(input_texts),\n",
    "    max_len_target,\n",
    "    num_words_output\n",
    "  ),\n",
    "  dtype='float32'\n",
    ")\n",
    "\n",
    "# assign the values\n",
    "for i, d in enumerate(decoder_targets):\n",
    "  for t, word in enumerate(d):\n",
    "    if word != 0:\n",
    "      decoder_targets_one_hot[i, t, word] = 1"
   ]
  },
  {
   "cell_type": "markdown",
   "id": "65ecebdb-6b68-46d0-b52e-a13501edb2f5",
   "metadata": {},
   "source": [
    "### Build the Model\n",
    "\n",
    "##### Encoder"
   ]
  },
  {
   "cell_type": "code",
   "execution_count": 76,
   "id": "1e16f235-492c-4684-a8f9-e6a54c3fa024",
   "metadata": {},
   "outputs": [],
   "source": [
    "encoder_inputs_placeholder = Input(shape=(max_len_input,))\n",
    "x = embedding_layer(encoder_inputs_placeholder)\n",
    "encoder = LSTM(\n",
    "  LATENT_DIM,\n",
    "  return_state=True\n",
    ")"
   ]
  },
  {
   "cell_type": "code",
   "execution_count": 77,
   "id": "727e92d3-6419-448d-a582-95ea7c7d1667",
   "metadata": {},
   "outputs": [],
   "source": [
    "# keep only the states to pass into decoder\n",
    "\n",
    "encoder_outputs, h, c = encoder(x)\n",
    "encoder_states = [h, c]"
   ]
  },
  {
   "cell_type": "markdown",
   "id": "9f2e8abe-9d21-4004-b5ad-02ae6d221b6d",
   "metadata": {},
   "source": [
    "##### Decoder"
   ]
  },
  {
   "cell_type": "code",
   "execution_count": 78,
   "id": "7d8e6b76-7232-47f3-b2a2-2c940f335e38",
   "metadata": {},
   "outputs": [],
   "source": [
    "decoder_inputs_placeholder = Input(shape=(max_len_target,))\n",
    "decoder_embedding = Embedding(num_words_output, EMBEDDING_DIM)\n",
    "decoder_inputs_x = decoder_embedding(decoder_inputs_placeholder)"
   ]
  },
  {
   "cell_type": "code",
   "execution_count": 79,
   "id": "a15e875a-65e8-4d63-9475-ef7954f04e16",
   "metadata": {},
   "outputs": [],
   "source": [
    "# Since the decoder is a \"to-many\" model we want to have return_sequences=True\n",
    "decoder_lstm = LSTM(\n",
    "  LATENT_DIM,\n",
    "  return_sequences=True,\n",
    "  return_state=True\n",
    ")"
   ]
  },
  {
   "cell_type": "code",
   "execution_count": 80,
   "id": "c5617d90-3712-4a74-b67b-f66d0d697e91",
   "metadata": {},
   "outputs": [],
   "source": [
    "decoder_outputs, _, _ = decoder_lstm(\n",
    "  decoder_inputs_x,\n",
    "  initial_state = encoder_states\n",
    ")"
   ]
  },
  {
   "cell_type": "code",
   "execution_count": 81,
   "id": "3fdc6d66-c8ff-4b9f-8850-ee4b0ee01482",
   "metadata": {},
   "outputs": [],
   "source": [
    "# final dense layer for predictions\n",
    "decoder_dense = Dense(num_words_output, activation='softmax')\n",
    "decoder_outputs = decoder_dense(decoder_outputs)"
   ]
  },
  {
   "cell_type": "code",
   "execution_count": 82,
   "id": "a443ff34-c9ad-43bb-a217-9e376b3e77b5",
   "metadata": {},
   "outputs": [],
   "source": [
    "# Create the model object\n",
    "model = Model([encoder_inputs_placeholder, decoder_inputs_placeholder], decoder_outputs)"
   ]
  },
  {
   "cell_type": "code",
   "execution_count": 83,
   "id": "5902e1d7-6637-48a6-bac7-0be08f5244fd",
   "metadata": {},
   "outputs": [
    {
     "name": "stdout",
     "output_type": "stream",
     "text": [
      "Model: \"model\"\n",
      "__________________________________________________________________________________________________\n",
      " Layer (type)                Output Shape                 Param #   Connected to                  \n",
      "==================================================================================================\n",
      " input_1 (InputLayer)        [(None, 5)]                  0         []                            \n",
      "                                                                                                  \n",
      " input_2 (InputLayer)        [(None, 10)]                 0         []                            \n",
      "                                                                                                  \n",
      " embedding (Embedding)       (None, 5, 100)               225500    ['input_1[0][0]']             \n",
      "                                                                                                  \n",
      " embedding_1 (Embedding)     (None, 10, 100)              638200    ['input_2[0][0]']             \n",
      "                                                                                                  \n",
      " lstm (LSTM)                 [(None, 256),                365568    ['embedding[0][0]']           \n",
      "                              (None, 256),                                                        \n",
      "                              (None, 256)]                                                        \n",
      "                                                                                                  \n",
      " lstm_1 (LSTM)               [(None, 10, 256),            365568    ['embedding_1[0][0]',         \n",
      "                              (None, 256),                           'lstm[0][1]',                \n",
      "                              (None, 256)]                           'lstm[0][2]']                \n",
      "                                                                                                  \n",
      " dense (Dense)               (None, 10, 6382)             1640174   ['lstm_1[0][0]']              \n",
      "                                                                                                  \n",
      "==================================================================================================\n",
      "Total params: 3235010 (12.34 MB)\n",
      "Trainable params: 3235010 (12.34 MB)\n",
      "Non-trainable params: 0 (0.00 Byte)\n",
      "__________________________________________________________________________________________________\n"
     ]
    }
   ],
   "source": [
    "model.summary()"
   ]
  },
  {
   "cell_type": "code",
   "execution_count": 87,
   "id": "d6becce0-9ca5-4315-85e5-682c386eab64",
   "metadata": {},
   "outputs": [],
   "source": [
    "def custom_loss(y_true, y_pred):\n",
    "  # both are of shape N x T x K\n",
    "  mask = K.cast(y_true > 0, dtype='float32')\n",
    "  out = mask * y_true * K.log(y_pred)\n",
    "  return -K.sum(out) / K.sum(mask)\n",
    "\n",
    "\n",
    "def acc(y_true, y_pred):\n",
    "  # both are of shape N x T x K\n",
    "  targ = K.argmax(y_true, axis=-1)\n",
    "  pred = K.argmax(y_pred, axis=-1)\n",
    "  correct = K.cast(K.equal(targ, pred), dtype='float32')\n",
    "\n",
    "  # 0 is padding, don't include those\n",
    "  mask = K.cast(K.greater(targ, 0), dtype='float32')\n",
    "  n_correct = K.sum(mask * correct)\n",
    "  n_total = K.sum(mask)\n",
    "  return n_correct / n_total\n",
    "\n",
    "model.compile(optimizer='adam', loss=custom_loss, metrics=[acc])"
   ]
  },
  {
   "cell_type": "code",
   "execution_count": 88,
   "id": "f0d3f80d-339f-4b2a-874f-9ede1cb28981",
   "metadata": {},
   "outputs": [
    {
     "name": "stdout",
     "output_type": "stream",
     "text": [
      "Epoch 1/100\n",
      "125/125 [==============================] - 46s 330ms/step - loss: 5.9541 - acc: 0.2824 - val_loss: 5.6562 - val_acc: 0.2724\n",
      "Epoch 2/100\n",
      "125/125 [==============================] - 38s 307ms/step - loss: 4.9467 - acc: 0.3002 - val_loss: 5.4485 - val_acc: 0.2880\n",
      "Epoch 3/100\n",
      "125/125 [==============================] - 38s 305ms/step - loss: 4.6019 - acc: 0.3200 - val_loss: 5.3402 - val_acc: 0.3071\n",
      "Epoch 4/100\n",
      "125/125 [==============================] - 39s 310ms/step - loss: 4.2721 - acc: 0.3501 - val_loss: 5.1550 - val_acc: 0.3260\n",
      "Epoch 5/100\n",
      "125/125 [==============================] - 37s 295ms/step - loss: 3.9593 - acc: 0.3837 - val_loss: 5.0077 - val_acc: 0.3470\n",
      "Epoch 6/100\n",
      "125/125 [==============================] - 37s 299ms/step - loss: 3.6785 - acc: 0.4123 - val_loss: 4.9326 - val_acc: 0.3664\n",
      "Epoch 7/100\n",
      "125/125 [==============================] - 38s 302ms/step - loss: 3.4291 - acc: 0.4341 - val_loss: 4.8573 - val_acc: 0.3824\n",
      "Epoch 8/100\n",
      "125/125 [==============================] - 38s 304ms/step - loss: 3.1981 - acc: 0.4579 - val_loss: 4.8454 - val_acc: 0.3976\n",
      "Epoch 9/100\n",
      "125/125 [==============================] - 38s 305ms/step - loss: 2.9797 - acc: 0.4808 - val_loss: 4.8105 - val_acc: 0.4076\n",
      "Epoch 10/100\n",
      "125/125 [==============================] - 37s 298ms/step - loss: 2.7693 - acc: 0.5011 - val_loss: 4.8257 - val_acc: 0.4141\n",
      "Epoch 11/100\n",
      "125/125 [==============================] - 37s 299ms/step - loss: 2.5689 - acc: 0.5215 - val_loss: 4.8143 - val_acc: 0.4195\n",
      "Epoch 12/100\n",
      "125/125 [==============================] - 38s 305ms/step - loss: 2.3814 - acc: 0.5407 - val_loss: 4.8134 - val_acc: 0.4195\n",
      "Epoch 13/100\n",
      "125/125 [==============================] - 37s 297ms/step - loss: 2.2044 - acc: 0.5594 - val_loss: 4.8099 - val_acc: 0.4233\n",
      "Epoch 14/100\n",
      "125/125 [==============================] - 38s 302ms/step - loss: 2.0329 - acc: 0.5833 - val_loss: 4.8311 - val_acc: 0.4199\n",
      "Epoch 15/100\n",
      "125/125 [==============================] - 38s 306ms/step - loss: 1.8744 - acc: 0.6045 - val_loss: 4.8442 - val_acc: 0.4203\n",
      "Epoch 16/100\n",
      "125/125 [==============================] - 38s 305ms/step - loss: 1.7271 - acc: 0.6278 - val_loss: 4.8615 - val_acc: 0.4181\n",
      "Epoch 17/100\n",
      "125/125 [==============================] - 39s 312ms/step - loss: 1.5868 - acc: 0.6513 - val_loss: 4.8906 - val_acc: 0.4110\n",
      "Epoch 18/100\n",
      "125/125 [==============================] - 38s 306ms/step - loss: 1.4579 - acc: 0.6761 - val_loss: 4.9209 - val_acc: 0.4111\n",
      "Epoch 19/100\n",
      "125/125 [==============================] - 38s 305ms/step - loss: 1.3383 - acc: 0.6975 - val_loss: 4.9331 - val_acc: 0.4129\n",
      "Epoch 20/100\n",
      "125/125 [==============================] - 38s 308ms/step - loss: 1.2274 - acc: 0.7202 - val_loss: 4.9473 - val_acc: 0.4152\n",
      "Epoch 21/100\n",
      "125/125 [==============================] - 38s 303ms/step - loss: 1.1266 - acc: 0.7394 - val_loss: 4.9649 - val_acc: 0.4125\n",
      "Epoch 22/100\n",
      "125/125 [==============================] - 38s 305ms/step - loss: 1.0376 - acc: 0.7578 - val_loss: 5.0120 - val_acc: 0.4106\n",
      "Epoch 23/100\n",
      "125/125 [==============================] - 38s 302ms/step - loss: 0.9548 - acc: 0.7763 - val_loss: 4.9990 - val_acc: 0.4171\n",
      "Epoch 24/100\n",
      "125/125 [==============================] - 39s 309ms/step - loss: 0.8789 - acc: 0.7889 - val_loss: 5.0445 - val_acc: 0.4101\n",
      "Epoch 25/100\n",
      "125/125 [==============================] - 39s 309ms/step - loss: 0.8129 - acc: 0.8025 - val_loss: 5.0798 - val_acc: 0.4068\n",
      "Epoch 26/100\n",
      "125/125 [==============================] - 39s 312ms/step - loss: 0.7537 - acc: 0.8146 - val_loss: 5.0871 - val_acc: 0.4127\n",
      "Epoch 27/100\n",
      "125/125 [==============================] - 39s 309ms/step - loss: 0.7005 - acc: 0.8246 - val_loss: 5.1105 - val_acc: 0.4101\n",
      "Epoch 28/100\n",
      "125/125 [==============================] - 39s 310ms/step - loss: 0.6530 - acc: 0.8316 - val_loss: 5.1443 - val_acc: 0.4119\n",
      "Epoch 29/100\n",
      "125/125 [==============================] - 38s 305ms/step - loss: 0.6080 - acc: 0.8397 - val_loss: 5.1546 - val_acc: 0.4110\n",
      "Epoch 30/100\n",
      "125/125 [==============================] - 38s 308ms/step - loss: 0.5702 - acc: 0.8455 - val_loss: 5.1601 - val_acc: 0.4114\n",
      "Epoch 31/100\n",
      "125/125 [==============================] - 38s 305ms/step - loss: 0.5351 - acc: 0.8518 - val_loss: 5.1967 - val_acc: 0.4104\n",
      "Epoch 32/100\n",
      "125/125 [==============================] - 38s 302ms/step - loss: 0.5046 - acc: 0.8571 - val_loss: 5.2146 - val_acc: 0.4100\n",
      "Epoch 33/100\n",
      "125/125 [==============================] - 38s 301ms/step - loss: 0.4783 - acc: 0.8605 - val_loss: 5.2337 - val_acc: 0.4144\n",
      "Epoch 34/100\n",
      "125/125 [==============================] - 38s 308ms/step - loss: 0.4532 - acc: 0.8655 - val_loss: 5.2775 - val_acc: 0.4101\n",
      "Epoch 35/100\n",
      "125/125 [==============================] - 38s 306ms/step - loss: 0.4347 - acc: 0.8657 - val_loss: 5.2799 - val_acc: 0.4096\n",
      "Epoch 36/100\n",
      "125/125 [==============================] - 39s 313ms/step - loss: 0.4125 - acc: 0.8677 - val_loss: 5.3235 - val_acc: 0.4066\n",
      "Epoch 37/100\n",
      "125/125 [==============================] - 38s 306ms/step - loss: 0.3953 - acc: 0.8702 - val_loss: 5.3412 - val_acc: 0.4040\n",
      "Epoch 38/100\n",
      "125/125 [==============================] - 38s 302ms/step - loss: 0.3774 - acc: 0.8729 - val_loss: 5.3520 - val_acc: 0.4096\n",
      "Epoch 39/100\n",
      "125/125 [==============================] - 37s 299ms/step - loss: 0.3645 - acc: 0.8733 - val_loss: 5.3887 - val_acc: 0.4068\n",
      "Epoch 40/100\n",
      "125/125 [==============================] - 37s 296ms/step - loss: 0.3520 - acc: 0.8740 - val_loss: 5.3977 - val_acc: 0.4089\n",
      "Epoch 41/100\n",
      "125/125 [==============================] - 36s 290ms/step - loss: 0.3402 - acc: 0.8746 - val_loss: 5.4249 - val_acc: 0.4040\n",
      "Epoch 42/100\n",
      "125/125 [==============================] - 38s 301ms/step - loss: 0.3290 - acc: 0.8760 - val_loss: 5.4154 - val_acc: 0.4100\n",
      "Epoch 43/100\n",
      "125/125 [==============================] - 37s 298ms/step - loss: 0.3209 - acc: 0.8775 - val_loss: 5.4690 - val_acc: 0.4071\n",
      "Epoch 44/100\n",
      "125/125 [==============================] - 38s 305ms/step - loss: 0.3128 - acc: 0.8767 - val_loss: 5.4586 - val_acc: 0.4079\n",
      "Epoch 45/100\n",
      "125/125 [==============================] - 38s 304ms/step - loss: 0.3063 - acc: 0.8787 - val_loss: 5.5019 - val_acc: 0.4040\n",
      "Epoch 46/100\n",
      "125/125 [==============================] - 38s 302ms/step - loss: 0.2996 - acc: 0.8774 - val_loss: 5.5153 - val_acc: 0.4071\n",
      "Epoch 47/100\n",
      "125/125 [==============================] - 37s 300ms/step - loss: 0.2932 - acc: 0.8781 - val_loss: 5.5204 - val_acc: 0.4029\n",
      "Epoch 48/100\n",
      "125/125 [==============================] - 39s 311ms/step - loss: 0.2879 - acc: 0.8789 - val_loss: 5.5167 - val_acc: 0.4076\n",
      "Epoch 49/100\n",
      "125/125 [==============================] - 39s 311ms/step - loss: 0.2827 - acc: 0.8792 - val_loss: 5.5475 - val_acc: 0.4107\n",
      "Epoch 50/100\n",
      "125/125 [==============================] - 39s 310ms/step - loss: 0.2763 - acc: 0.8799 - val_loss: 5.6009 - val_acc: 0.4078\n",
      "Epoch 51/100\n",
      "125/125 [==============================] - 39s 311ms/step - loss: 0.2724 - acc: 0.8795 - val_loss: 5.6040 - val_acc: 0.4058\n",
      "Epoch 52/100\n",
      "125/125 [==============================] - 39s 311ms/step - loss: 0.2687 - acc: 0.8806 - val_loss: 5.6154 - val_acc: 0.4080\n",
      "Epoch 53/100\n",
      "125/125 [==============================] - 38s 304ms/step - loss: 0.2638 - acc: 0.8802 - val_loss: 5.6237 - val_acc: 0.4073\n",
      "Epoch 54/100\n",
      "125/125 [==============================] - 37s 295ms/step - loss: 0.2612 - acc: 0.8801 - val_loss: 5.6426 - val_acc: 0.4060\n",
      "Epoch 55/100\n",
      "125/125 [==============================] - 39s 312ms/step - loss: 0.2608 - acc: 0.8797 - val_loss: 5.6293 - val_acc: 0.4048\n",
      "Epoch 56/100\n",
      "125/125 [==============================] - 37s 298ms/step - loss: 0.2570 - acc: 0.8809 - val_loss: 5.6766 - val_acc: 0.4044\n",
      "Epoch 57/100\n",
      "125/125 [==============================] - 38s 306ms/step - loss: 0.2532 - acc: 0.8801 - val_loss: 5.7162 - val_acc: 0.4024\n",
      "Epoch 58/100\n",
      "125/125 [==============================] - 37s 294ms/step - loss: 0.2515 - acc: 0.8794 - val_loss: 5.7050 - val_acc: 0.4034\n",
      "Epoch 59/100\n",
      "125/125 [==============================] - 37s 297ms/step - loss: 0.2492 - acc: 0.8803 - val_loss: 5.7008 - val_acc: 0.4024\n",
      "Epoch 60/100\n",
      "125/125 [==============================] - 38s 304ms/step - loss: 0.2468 - acc: 0.8806 - val_loss: 5.7412 - val_acc: 0.4021\n",
      "Epoch 61/100\n",
      "125/125 [==============================] - 39s 309ms/step - loss: 0.2445 - acc: 0.8790 - val_loss: 5.7304 - val_acc: 0.4064\n",
      "Epoch 62/100\n",
      "125/125 [==============================] - 37s 297ms/step - loss: 0.2425 - acc: 0.8814 - val_loss: 5.7809 - val_acc: 0.4060\n",
      "Epoch 63/100\n",
      "125/125 [==============================] - 38s 301ms/step - loss: 0.2402 - acc: 0.8808 - val_loss: 5.7705 - val_acc: 0.4031\n",
      "Epoch 64/100\n",
      "125/125 [==============================] - 39s 310ms/step - loss: 0.2378 - acc: 0.8808 - val_loss: 5.8045 - val_acc: 0.4059\n",
      "Epoch 65/100\n",
      "125/125 [==============================] - 39s 312ms/step - loss: 0.2386 - acc: 0.8787 - val_loss: 5.8144 - val_acc: 0.4043\n",
      "Epoch 66/100\n",
      "125/125 [==============================] - 39s 312ms/step - loss: 0.2358 - acc: 0.8809 - val_loss: 5.8318 - val_acc: 0.4047\n",
      "Epoch 67/100\n",
      "125/125 [==============================] - 39s 313ms/step - loss: 0.2345 - acc: 0.8802 - val_loss: 5.8247 - val_acc: 0.4073\n",
      "Epoch 68/100\n",
      "125/125 [==============================] - 39s 309ms/step - loss: 0.2334 - acc: 0.8807 - val_loss: 5.8649 - val_acc: 0.4043\n",
      "Epoch 69/100\n",
      "125/125 [==============================] - 39s 311ms/step - loss: 0.2330 - acc: 0.8798 - val_loss: 5.8993 - val_acc: 0.4075\n",
      "Epoch 70/100\n",
      "125/125 [==============================] - 38s 304ms/step - loss: 0.2313 - acc: 0.8813 - val_loss: 5.8895 - val_acc: 0.4011\n",
      "Epoch 71/100\n",
      "125/125 [==============================] - 37s 298ms/step - loss: 0.2300 - acc: 0.8800 - val_loss: 5.8688 - val_acc: 0.4055\n",
      "Epoch 72/100\n",
      "125/125 [==============================] - 38s 308ms/step - loss: 0.2293 - acc: 0.8797 - val_loss: 5.8854 - val_acc: 0.4041\n",
      "Epoch 73/100\n",
      "125/125 [==============================] - 39s 311ms/step - loss: 0.2282 - acc: 0.8798 - val_loss: 5.9256 - val_acc: 0.4034\n",
      "Epoch 74/100\n",
      "125/125 [==============================] - 39s 311ms/step - loss: 0.2276 - acc: 0.8812 - val_loss: 5.9431 - val_acc: 0.4060\n",
      "Epoch 75/100\n",
      "125/125 [==============================] - 39s 313ms/step - loss: 0.2268 - acc: 0.8813 - val_loss: 5.9779 - val_acc: 0.4038\n",
      "Epoch 76/100\n",
      "125/125 [==============================] - 39s 313ms/step - loss: 0.2243 - acc: 0.8824 - val_loss: 5.9493 - val_acc: 0.4006\n",
      "Epoch 77/100\n",
      "125/125 [==============================] - 39s 312ms/step - loss: 0.2256 - acc: 0.8782 - val_loss: 5.9933 - val_acc: 0.4052\n",
      "Epoch 78/100\n",
      "125/125 [==============================] - 38s 307ms/step - loss: 0.2230 - acc: 0.8804 - val_loss: 6.0195 - val_acc: 0.4039\n",
      "Epoch 79/100\n",
      "125/125 [==============================] - 39s 311ms/step - loss: 0.2226 - acc: 0.8816 - val_loss: 5.9520 - val_acc: 0.4040\n",
      "Epoch 80/100\n",
      "125/125 [==============================] - 39s 313ms/step - loss: 0.2210 - acc: 0.8822 - val_loss: 5.9900 - val_acc: 0.4023\n",
      "Epoch 81/100\n",
      "125/125 [==============================] - 39s 313ms/step - loss: 0.2203 - acc: 0.8808 - val_loss: 6.0814 - val_acc: 0.4026\n",
      "Epoch 82/100\n",
      "125/125 [==============================] - 39s 310ms/step - loss: 0.2200 - acc: 0.8816 - val_loss: 6.0377 - val_acc: 0.4027\n",
      "Epoch 83/100\n",
      "125/125 [==============================] - 39s 309ms/step - loss: 0.2196 - acc: 0.8812 - val_loss: 6.0553 - val_acc: 0.4036\n",
      "Epoch 84/100\n",
      "125/125 [==============================] - 39s 312ms/step - loss: 0.2190 - acc: 0.8799 - val_loss: 6.0390 - val_acc: 0.4012\n",
      "Epoch 85/100\n",
      "125/125 [==============================] - 39s 310ms/step - loss: 0.2179 - acc: 0.8800 - val_loss: 6.0807 - val_acc: 0.4030\n",
      "Epoch 86/100\n",
      "125/125 [==============================] - 38s 303ms/step - loss: 0.2196 - acc: 0.8810 - val_loss: 6.0778 - val_acc: 0.4038\n",
      "Epoch 87/100\n",
      "125/125 [==============================] - 38s 302ms/step - loss: 0.2178 - acc: 0.8793 - val_loss: 6.0959 - val_acc: 0.4018\n",
      "Epoch 88/100\n",
      "125/125 [==============================] - 38s 304ms/step - loss: 0.2174 - acc: 0.8787 - val_loss: 6.1463 - val_acc: 0.4035\n",
      "Epoch 89/100\n",
      "125/125 [==============================] - 39s 311ms/step - loss: 0.2154 - acc: 0.8820 - val_loss: 6.0992 - val_acc: 0.4039\n",
      "Epoch 90/100\n",
      "125/125 [==============================] - 39s 310ms/step - loss: 0.2153 - acc: 0.8807 - val_loss: 6.0967 - val_acc: 0.4011\n",
      "Epoch 91/100\n",
      "125/125 [==============================] - 37s 298ms/step - loss: 0.2161 - acc: 0.8809 - val_loss: 6.1459 - val_acc: 0.4025\n",
      "Epoch 92/100\n",
      "125/125 [==============================] - 37s 298ms/step - loss: 0.2142 - acc: 0.8811 - val_loss: 6.1870 - val_acc: 0.4037\n",
      "Epoch 93/100\n",
      "125/125 [==============================] - 38s 300ms/step - loss: 0.2142 - acc: 0.8800 - val_loss: 6.1810 - val_acc: 0.4056\n",
      "Epoch 94/100\n",
      "125/125 [==============================] - 38s 302ms/step - loss: 0.2144 - acc: 0.8797 - val_loss: 6.2197 - val_acc: 0.4020\n",
      "Epoch 95/100\n",
      "125/125 [==============================] - 37s 300ms/step - loss: 0.2138 - acc: 0.8794 - val_loss: 6.2434 - val_acc: 0.4021\n",
      "Epoch 96/100\n",
      "125/125 [==============================] - 37s 300ms/step - loss: 0.2130 - acc: 0.8807 - val_loss: 6.2041 - val_acc: 0.4014\n",
      "Epoch 97/100\n",
      "125/125 [==============================] - 38s 303ms/step - loss: 0.2134 - acc: 0.8805 - val_loss: 6.2295 - val_acc: 0.4001\n",
      "Epoch 98/100\n",
      "125/125 [==============================] - 38s 307ms/step - loss: 0.2130 - acc: 0.8805 - val_loss: 6.2382 - val_acc: 0.4033\n",
      "Epoch 99/100\n",
      "125/125 [==============================] - 37s 299ms/step - loss: 0.2118 - acc: 0.8806 - val_loss: 6.2795 - val_acc: 0.4032\n",
      "Epoch 100/100\n",
      "125/125 [==============================] - 39s 311ms/step - loss: 0.2107 - acc: 0.8815 - val_loss: 6.2524 - val_acc: 0.4015\n"
     ]
    }
   ],
   "source": [
    "r = model.fit(\n",
    "  [encoder_inputs, decoder_inputs], decoder_targets_one_hot,\n",
    "  batch_size=BATCH_SIZE,\n",
    "  epochs=EPOCHS,\n",
    "  validation_split=0.2,\n",
    ")"
   ]
  },
  {
   "cell_type": "code",
   "execution_count": 90,
   "id": "9cb229ab-47d4-4285-a2f6-f9a67ca4e499",
   "metadata": {},
   "outputs": [
    {
     "data": {
      "image/png": "[encoded data removed]",
      "text/plain": [
       "<Figure size 640x480 with 1 Axes>"
      ]
     },
     "metadata": {},
     "output_type": "display_data"
    },
    {
     "name": "stdout",
     "output_type": "stream",
     "text": [
      "Accuracy metric not found. Check if it's added in the model compilation.\n"
     ]
    },
    {
     "name": "stderr",
     "output_type": "stream",
     "text": [
      "C:\\Users\\write\\miniconda3\\envs\\tf_tr\\lib\\site-packages\\keras\\src\\engine\\training.py:3000: UserWarning: You are saving your model as an HDF5 file via `model.save()`. This file format is considered legacy. We recommend using instead the native Keras format, e.g. `model.save('my_model.keras')`.\n",
      "  saving_api.save_model(\n"
     ]
    }
   ],
   "source": [
    "# Plot loss\n",
    "plt.plot(r.history['loss'], label='loss')\n",
    "plt.plot(r.history['val_loss'], label='val_loss')\n",
    "plt.legend()\n",
    "plt.title('Model Loss')\n",
    "plt.xlabel('Epochs')\n",
    "plt.ylabel('Loss')\n",
    "plt.show()\n",
    "\n",
    "# Plot accuracy (check if the metric is recorded)\n",
    "if 'accuracy' in r.history:\n",
    "    plt.plot(r.history['accuracy'], label='accuracy')\n",
    "    plt.plot(r.history['val_accuracy'], label='val_accuracy')\n",
    "    plt.legend()\n",
    "    plt.title('Model Accuracy')\n",
    "    plt.xlabel('Epochs')\n",
    "    plt.ylabel('Accuracy')\n",
    "    plt.show()\n",
    "else:\n",
    "    print(\"Accuracy metric not found. Check if it's added in the model compilation.\")\n",
    "\n",
    "# Save model\n",
    "model.save('SEQ2SEQ.h5')"
   ]
  },
  {
   "cell_type": "markdown",
   "id": "3802a764-9e8e-4621-96a0-4c93326defb0",
   "metadata": {},
   "source": [
    "This code is building a sequence-to-sequence model, typically used in tasks like machine translation or text generation, by defining an encoder-decoder architecture. Here's a breakdown of what each part of the code is doing:\n",
    "\n",
    "### 1. **Creating the Encoder Model**\n",
    "   ```python\n",
    "   encoder_model = Model(encoder_inputs_placeholder, encoder_states)\n",
    "   ```\n",
    "   - This creates a stand-alone encoder model that takes in `encoder_inputs_placeholder` (the input sequence) and outputs `encoder_states` (final hidden states).\n",
    "   - These encoder states will be used as the initial states for the decoder, essentially \"encoding\" the input into a representation that the decoder can then use to generate output.\n",
    "\n",
    "### 2. **Setting Up Decoder Initial States**\n",
    "   ```python\n",
    "   decoder_state_input_h = Input(shape=(LATENT_DIM,))\n",
    "   decoder_state_input_c = Input(shape=(LATENT_DIM,))\n",
    "   decoder_states_inputs = [decoder_state_input_h, decoder_state_input_c]\n",
    "   ```\n",
    "   - `decoder_state_input_h` and `decoder_state_input_c` represent the previous hidden and cell states of the decoder, which are required as inputs to the LSTM in each decoding step.\n",
    "   - `LATENT_DIM` refers to the dimensionality of the LSTM's hidden states.\n",
    "\n",
    "### 3. **Single Word Input and Embedding for Decoder**\n",
    "   ```python\n",
    "   decoder_inputs_single = Input(shape=(1,))\n",
    "   decoder_inputs_single_x = decoder_embedding(decoder_inputs_single)\n",
    "   ```\n",
    "   - `decoder_inputs_single` takes a single word (time step of 1) as input, to allow for step-by-step predictions during inference.\n",
    "   - `decoder_inputs_single_x` is the embedded representation of this single word.\n",
    "\n",
    "### 4. **Building the Decoder LSTM Layer for Predictions**\n",
    "   ```python\n",
    "   decoder_outputs, h, c = decoder_lstm(\n",
    "      decoder_inputs_single_x,\n",
    "      initial_state=decoder_states_inputs\n",
    "   )\n",
    "   decoder_states = [h, c]\n",
    "   decoder_outputs = decoder_dense(decoder_outputs)\n",
    "   ```\n",
    "   - `decoder_lstm` takes the embedded single-word input and previous decoder states to output the next predicted word (`decoder_outputs`) and the updated hidden (`h`) and cell (`c`) states.\n",
    "   - `decoder_dense` is a dense layer that maps the decoder's LSTM output to the vocabulary size, producing a probability distribution over the next possible word.\n",
    "\n",
    "### 5. **Creating the Decoder Model for Sampling**\n",
    "   ```python\n",
    "   decoder_model = Model(\n",
    "      [decoder_inputs_single] + decoder_states_inputs, \n",
    "      [decoder_outputs] + decoder_states\n",
    "   )\n",
    "   ```\n",
    "   - This `decoder_model` is the sampling model used during inference. It takes:\n",
    "     - The previous word, `decoder_inputs_single`\n",
    "     - The previous hidden and cell states, `decoder_states_inputs`\n",
    "   - It outputs:\n",
    "     - The predicted word `decoder_outputs`\n",
    "     - The updated states `decoder_states`\n",
    "   - This allows the model to generate one word at a time and propagate the states forward for each new prediction.\n",
    "\n",
    "### 6. **Index to Word Mapping for Interpreting Output**\n",
    "   ```python\n",
    "   idx2word_eng = {v:k for k, v in word2idx_inputs.items()}\n",
    "   idx2word_trans = {v:k for k, v in word2idx_outputs.items()}\n",
    "   ```\n",
    "   - `idx2word_eng` and `idx2word_trans` map indices back to words for the input and output vocabularies, respectively.\n",
    "   - These mappings are used to interpret the model's numeric outputs as human-readable words.\n",
    "\n",
    "### Summary\n",
    "Overall, this code sets up a sequence-to-sequence inference model by defining an encoder and a decoder. The encoder generates an initial state, which is passed to the decoder to predict one word at a time, using the previous word and state information at each step. The mappings at the end help translate the model’s numerical outputs into words."
   ]
  },
  {
   "cell_type": "code",
   "execution_count": 91,
   "id": "3a326858-5072-4241-b252-563bcc2ad0a7",
   "metadata": {},
   "outputs": [],
   "source": [
    "encoder_model = Model(encoder_inputs_placeholder, encoder_states)\n",
    "\n",
    "decoder_state_input_h = Input(shape=(LATENT_DIM,))\n",
    "decoder_state_input_c = Input(shape=(LATENT_DIM,))\n",
    "decoder_states_inputs = [decoder_state_input_h, decoder_state_input_c]\n",
    "# decoder_states_inputs = [decoder_state_input_h] # gru\n",
    "\n",
    "decoder_inputs_single = Input(shape=(1,))\n",
    "decoder_inputs_single_x = decoder_embedding(decoder_inputs_single)\n",
    "\n",
    "# this time, we want to keep the states too, to be output\n",
    "# by our sampling model\n",
    "decoder_outputs, h, c = decoder_lstm(\n",
    "  decoder_inputs_single_x,\n",
    "  initial_state=decoder_states_inputs\n",
    ")\n",
    "# decoder_outputs, state_h = decoder_lstm(\n",
    "#   decoder_inputs_single_x,\n",
    "#   initial_state=decoder_states_inputs\n",
    "# ) #gru\n",
    "decoder_states = [h, c]\n",
    "# decoder_states = [h] # gru\n",
    "decoder_outputs = decoder_dense(decoder_outputs)\n",
    "\n",
    "# The sampling model\n",
    "# inputs: y(t-1), h(t-1), c(t-1)\n",
    "# outputs: y(t), h(t), c(t)\n",
    "decoder_model = Model(\n",
    "  [decoder_inputs_single] + decoder_states_inputs, \n",
    "  [decoder_outputs] + decoder_states\n",
    ")\n",
    "\n",
    "# map indexes back into real words\n",
    "# so we can view the results\n",
    "idx2word_eng = {v:k for k, v in word2idx_inputs.items()}\n",
    "idx2word_trans = {v:k for k, v in word2idx_outputs.items()}"
   ]
  },
  {
   "cell_type": "markdown",
   "id": "360c26e6-e79b-441b-a8c9-21977701ad80",
   "metadata": {},
   "source": [
    "The `decode_sequence` function generates a translated sequence (e.g., in a machine translation task) or a sequential prediction using the encoder-decoder model. Here’s a step-by-step breakdown:\n",
    "\n",
    "### 1. **Encoding the Input Sequence**\n",
    "   ```python\n",
    "   states_value = encoder_model.predict(input_seq)\n",
    "   ```\n",
    "   - This line uses the `encoder_model` to process `input_seq` (the input sentence) and output the initial hidden and cell states, `states_value`.\n",
    "   - These states are used to initialize the decoder’s generation process.\n",
    "\n",
    "### 2. **Initializing the Target Sequence**\n",
    "   ```python\n",
    "   target_seq = np.zeros((1, 1))\n",
    "   target_seq[0, 0] = word2idx_outputs['<sos>']\n",
    "   ```\n",
    "   - `target_seq` is a sequence of length 1, which will hold the generated word at each step.\n",
    "   - The sequence is initialized with the start-of-sequence token (`<sos>`) to begin the decoding.\n",
    "\n",
    "### 3. **Defining the End-of-Sequence (EOS) Condition**\n",
    "   ```python\n",
    "   eos = word2idx_outputs['<eos>']\n",
    "   ```\n",
    "   - `eos` is the index for the end-of-sequence token (`<eos>`), which will signal the model to stop generating words once it’s reached.\n",
    "\n",
    "### 4. **Decoding Loop**\n",
    "   ```python\n",
    "   output_sentence = []\n",
    "   for _ in range(max_len_target):\n",
    "   ```\n",
    "   - The loop generates one word at a time, up to a maximum sequence length (`max_len_target`), or until the end-of-sequence token is predicted.\n",
    "\n",
    "   Inside the loop:\n",
    "\n",
    "   - **Predicting Next Word and States**:\n",
    "     ```python\n",
    "     output_tokens, h, c = decoder_model.predict([target_seq] + states_value)\n",
    "     ```\n",
    "     - `decoder_model` takes `target_seq` (current word) and `states_value` (current states) and predicts the next word (`output_tokens`) and updates the states (`h` and `c`).\n",
    "     - `output_tokens` is a probability distribution over the vocabulary for the next word.\n",
    "\n",
    "   - **Selecting the Predicted Word**:\n",
    "     ```python\n",
    "     idx = np.argmax(output_tokens[0, 0, :])\n",
    "     ```\n",
    "     - The function selects the index of the highest-probability word from `output_tokens`.\n",
    "\n",
    "   - **Checking End-of-Sequence**:\n",
    "     ```python\n",
    "     if eos == idx:\n",
    "       break\n",
    "     ```\n",
    "     - If the predicted word is the end-of-sequence token (`eos`), the loop breaks, ending the generation.\n",
    "\n",
    "   - **Appending the Word**:\n",
    "     ```python\n",
    "     word = ''\n",
    "     if idx > 0:\n",
    "       word = idx2word_trans[idx]\n",
    "       output_sentence.append(word)\n",
    "     ```\n",
    "     - The predicted word’s index (`idx`) is mapped back to its actual word using `idx2word_trans` and added to `output_sentence`.\n",
    "\n",
    "   - **Updating Target Sequence and States**:\n",
    "     ```python\n",
    "     target_seq[0, 0] = idx\n",
    "     states_value = [h, c]\n",
    "     ```\n",
    "     - `target_seq` is updated to the current predicted word index (`idx`), which becomes the input for the next time step.\n",
    "     - `states_value` is updated with the new hidden and cell states for the next prediction.\n",
    "\n",
    "### 5. **Returning the Generated Sentence**\n",
    "   ```python\n",
    "   return ' '.join(output_sentence)\n",
    "   ```\n",
    "   - The function joins all words in `output_sentence` to form the final translated or generated sentence and returns it.\n",
    "\n",
    "### Summary\n",
    "This function uses the encoder-decoder model to iteratively predict each word in the output sequence, one at a time. It starts with an initial state from the encoder, takes the last generated word as input, and stops either when reaching the end-of-sequence token or when hitting the maximum sequence length."
   ]
  },
  {
   "cell_type": "code",
   "execution_count": 92,
   "id": "8b0105cd-63a6-4ce0-9dbd-3ee744266d24",
   "metadata": {},
   "outputs": [],
   "source": [
    "def decode_sequence(input_seq):\n",
    "  # Encode the input as state vectors.\n",
    "  states_value = encoder_model.predict(input_seq)\n",
    "  target_seq = np.zeros((1, 1))\n",
    "  target_seq[0, 0] = word2idx_outputs['<sos>']\n",
    "  eos = word2idx_outputs['<eos>']\n",
    "    \n",
    "  # Create the translation\n",
    "  output_sentence = []\n",
    "  for _ in range(max_len_target):\n",
    "    output_tokens, h, c = decoder_model.predict(\n",
    "      [target_seq] + states_value\n",
    "    )\n",
    "    idx = np.argmax(output_tokens[0, 0, :])\n",
    "    # End sentence of EOS\n",
    "    if eos == idx:\n",
    "      break\n",
    "    word = ''\n",
    "    if idx > 0:\n",
    "      word = idx2word_trans[idx]\n",
    "      output_sentence.append(word)\n",
    "\n",
    "    # Update the decoder input\n",
    "    # which is just the word just generated\n",
    "    target_seq[0, 0] = idx\n",
    "\n",
    "    # Update states\n",
    "    states_value = [h, c]\n",
    "\n",
    "  return ' '.join(output_sentence)"
   ]
  },
  {
   "cell_type": "markdown",
   "id": "91c784ee-2b13-4447-8f1a-af82e8647713",
   "metadata": {},
   "source": [
    "### Do some Translation"
   ]
  },
  {
   "cell_type": "code",
   "execution_count": 93,
   "id": "a179ccc9-5f91-46fd-8cfe-e5a2d626e566",
   "metadata": {},
   "outputs": [
    {
     "name": "stdout",
     "output_type": "stream",
     "text": [
      "1/1 [==============================] - 1s 581ms/step\n",
      "1/1 [==============================] - 1s 552ms/step\n",
      "1/1 [==============================] - 0s 38ms/step\n",
      "1/1 [==============================] - 0s 39ms/step\n",
      "1/1 [==============================] - 0s 38ms/step\n",
      "-\n",
      "Input: She seems rich.\n",
      "Translation: ella tiene rico.\n"
     ]
    },
    {
     "name": "stdin",
     "output_type": "stream",
     "text": [
      "Continue? [Y/n] n\n"
     ]
    }
   ],
   "source": [
    "while True:\n",
    "  i = np.random.choice(len(input_texts))\n",
    "  input_seq = encoder_inputs[i:i+1]\n",
    "  translation = decode_sequence(input_seq)\n",
    "  print('-')\n",
    "  print('Input:', input_texts[i])\n",
    "  print('Translation:', translation)\n",
    "\n",
    "  ans = input(\"Continue? [Y/n]\")\n",
    "  if ans and ans.lower().startswith('n'):\n",
    "    break"
   ]
  },
  {
   "cell_type": "code",
   "execution_count": null,
   "id": "0101617f-a30f-4249-8d06-a14e05643beb",
   "metadata": {},
   "outputs": [],
   "source": []
  },
  {
   "cell_type": "code",
   "execution_count": null,
   "id": "1332f2a4-8668-41fb-baa4-c1266fa7e4b8",
   "metadata": {},
   "outputs": [],
   "source": []
  },
  {
   "cell_type": "code",
   "execution_count": null,
   "id": "7b901c9c-0ec1-4fcc-a665-b182a8115092",
   "metadata": {},
   "outputs": [],
   "source": []
  }
 ],
 "metadata": {
  "kernelspec": {
   "display_name": "Python 3 (ipykernel)",
   "language": "python",
   "name": "python3"
  },
  "language_info": {
   "codemirror_mode": {
    "name": "ipython",
    "version": 3
   },
   "file_extension": ".py",
   "mimetype": "text/x-python",
   "name": "python",
   "nbconvert_exporter": "python",
   "pygments_lexer": "ipython3",
   "version": "3.8.19"
  }
 },
 "nbformat": 4,
 "nbformat_minor": 5
}
